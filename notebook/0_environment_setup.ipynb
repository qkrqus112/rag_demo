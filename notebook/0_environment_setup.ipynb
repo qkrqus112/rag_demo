{
 "cells": [
  {
   "cell_type": "markdown",
   "id": "f6aab25e",
   "metadata": {},
   "source": [
    "# RAG 환경 설정\n",
    "\n",
    "이 노트북에서는 RAG 실습을 위한 환경을 세팅합니다.\n",
    "\n",
    "1. 가상환경 생성 및 활성화\n",
    "2. requirements.txt로 패키지 설치\n",
    "3. .env 파일로 OpenAI API 키 등록 및 확인\n",
    "\n",
    "---\n",
    "**실습 목적**\n",
    "- 실습에 필요한 Python 패키지와 환경을 안전하게 분리하여 관리합니다.\n",
    "- API 키 등 민감 정보는 코드에 직접 노출하지 않고 환경 변수로 관리합니다."
   ]
  },
  {
   "cell_type": "markdown",
   "id": "39172aa9",
   "metadata": {},
   "source": [
    "## 1. (터미널에서) 가상환경 생성 및 활성화\n",
    "- 아래 명령어를 터미널에 입력하세요.\n",
    "- 가상환경을 사용하면 프로젝트별로 독립적인 패키지 환경을 유지할 수 있습니다.\n",
    "\n",
    "### pyenv로 Python 버전 관리 및 가상환경 생성 (권장)\n",
    "\n",
    "```bash\n",
    "# pyenv 설치\n",
    "curl https://pyenv.run | bash\n",
    "\n",
    "# 셸 설정 파일에 pyenv 설정 추가 (bash 기준)\n",
    "echo 'export PATH=\"$HOME/.pyenv/bin:$PATH\"' >> ~/.bashrc\n",
    "echo 'eval \"$(pyenv init -)\"' >> ~/.bashrc\n",
    "echo 'eval \"$(pyenv virtualenv-init -)\"' >> ~/.bashrc\n",
    "\n",
    "# 설정 적용\n",
    "source ~/.bashrc\n",
    "\n",
    "# Python 3.9.13 설치\n",
    "pyenv install 3.9.13\n",
    "\n",
    "# Python 3.9.13를 기본 버전으로 설정\n",
    "pyenv global 3.9.13\n",
    "\n",
    "# 설치 확인\n",
    "python --version  # 출력: Python 3.9.13\n",
    "\n",
    "# 가상환경 생성\n",
    "python -m venv .venv\n",
    "\n",
    "# 가상환경 활성화\n",
    "source .venv/bin/activate\n",
    "```"
   ]
  },
  {
   "cell_type": "markdown",
   "id": "704011ad",
   "metadata": {},
   "source": [
    "## 2. requirements.txt로 패키지 설치\n",
    "- 아래 셀을 실행하면 requirements.txt에 명시된 패키지가 모두 설치됩니다.\n",
    "- 패키지 목록은 프로젝트 루트의 requirements.txt 파일에서 관리합니다."
   ]
  },
  {
   "cell_type": "code",
   "execution_count": null,
   "id": "b7d44111",
   "metadata": {},
   "outputs": [],
   "source": [
    "%pip install -r ../requirements.txt"
   ]
  },
  {
   "cell_type": "markdown",
   "id": "802102bd",
   "metadata": {},
   "source": [
    "## 3. .env 파일에 OpenAI API 키 등록\n",
    "- `.env.sample` 파일을 `.env`로 이름을 바꿉니다.\n",
    "- `.env` 파일을 프로젝트 루트(최상위 폴더)에 아래와 같이 작성하세요.\n",
    "\n",
    "```env\n",
    "OPENAI_API_KEY=sk-xxxxxxxxxxxxxxxxxxxxxxxxxxxxxxxxxxxxxxxx\n",
    "```\n",
    "- API 키는 외부에 노출되지 않도록 주의하세요."
   ]
  },
  {
   "cell_type": "markdown",
   "id": "4ef442bc",
   "metadata": {},
   "source": [
    "## 4. 환경 변수 로드 및 확인\n",
    "- 아래 셀을 실행해 .env 파일이 잘 적용되는지 확인하세요.\n",
    "- dotenv 패키지를 통해 .env 파일의 내용을 환경 변수로 불러옵니다."
   ]
  },
  {
   "cell_type": "code",
   "execution_count": null,
   "id": "6606738c",
   "metadata": {},
   "outputs": [],
   "source": [
    "from dotenv import load_dotenv\n",
    "import os\n",
    "\n",
    "load_dotenv()\n",
    "api_key = os.getenv(\"OPENAI_API_KEY\")\n",
    "\n",
    "if api_key:\n",
    "    print(\"✅ OPENAI_API_KEY가 성공적으로 로드되었습니다.\")\n",
    "else:\n",
    "    print(\"❌ OPENAI_API_KEY가 설정되어 있지 않습니다. .env 파일을 확인하세요.\")\n",
    "\n",
    "# 환경 변수 직접 확인 (실습)\n",
    "print(\"OPENAI_API_KEY:\", os.getenv(\"OPENAI_API_KEY\"))"
   ]
  },
  {
   "cell_type": "markdown",
   "id": "fdf21d23",
   "metadata": {},
   "source": [
    "# 5. LLM 답변 생성 테스트\n",
    "\n",
    "- 환경 설정이 완료되면 아래 셀을 실행해 LLM(OpenAI GPT)을 직접 호출해봅니다.\n",
    "- 정상적으로 답변이 출력되면 환경 구성이 완료된 것입니다."
   ]
  },
  {
   "cell_type": "code",
   "execution_count": null,
   "id": "4d935fe4",
   "metadata": {},
   "outputs": [],
   "source": [
    "from langchain_openai import ChatOpenAI\n",
    "\n",
    "llm = ChatOpenAI(openai_api_key=api_key, model=\"gpt-4o\")\n",
    "\n",
    "question = \"AK아이에스는 어떤 회사야?\"\n",
    "response = llm.invoke(question)\n",
    "print(\"LLM 답변:\", response.content)"
   ]
  }
 ],
 "metadata": {
  "kernelspec": {
   "display_name": ".venv",
   "language": "python",
   "name": "python3"
  },
  "language_info": {
   "codemirror_mode": {
    "name": "ipython",
    "version": 3
   },
   "file_extension": ".py",
   "mimetype": "text/x-python",
   "name": "python",
   "nbconvert_exporter": "python",
   "pygments_lexer": "ipython3",
   "version": "3.9.13"
  }
 },
 "nbformat": 4,
 "nbformat_minor": 5
}
